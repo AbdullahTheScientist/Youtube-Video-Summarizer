{
 "cells": [
  {
   "cell_type": "code",
   "execution_count": 1,
   "metadata": {},
   "outputs": [
    {
     "name": "stderr",
     "output_type": "stream",
     "text": [
      "d:\\miniconda\\envs\\video\\lib\\site-packages\\tqdm\\auto.py:21: TqdmWarning: IProgress not found. Please update jupyter and ipywidgets. See https://ipywidgets.readthedocs.io/en/stable/user_install.html\n",
      "  from .autonotebook import tqdm as notebook_tqdm\n"
     ]
    }
   ],
   "source": [
    "import streamlit as st\n",
    "from dotenv import load_dotenv\n",
    "\n",
    "load_dotenv() ##load all the nevironment variables\n",
    "import os\n",
    "import google.generativeai as genai\n",
    "\n",
    "from youtube_transcript_api import YouTubeTranscriptApi\n",
    "\n",
    "genai.configure(api_key=os.getenv(\"GOOGLE_API_KEY\"))\n",
    "\n",
    "\n",
    "prompt=\"\"\"You are Yotube video summarizer. You will be taking the transcript text\n",
    "and summarizing the entire video and providing the important summary in points\n",
    "within {words}. Please provide the summary of the text given here:  \"\"\"\n",
    "\n",
    "\n",
    "# ## getting the transcript data from yt videos\n",
    "# def extract_transcript_details(youtube_video_url):\n",
    "#     try:\n",
    "#         video_id=youtube_video_url.split(\"=\")[1]\n",
    "        \n",
    "#         transcript_text=YouTubeTranscriptApi.get_transcript(video_id)\n",
    "\n",
    "#         transcript = \"\"\n",
    "#         for i in transcript_text:\n",
    "#             transcript += \" \" + i[\"text\"]\n",
    "\n",
    "#         return transcript\n",
    "\n",
    "#     except Exception as e:\n",
    "#         raise e\n",
    "    "
   ]
  },
  {
   "cell_type": "code",
   "execution_count": 13,
   "metadata": {},
   "outputs": [
    {
     "name": "stdout",
     "output_type": "stream",
     "text": [
      "XSfSgq7Fkos\n"
     ]
    }
   ],
   "source": []
  },
  {
   "cell_type": "code",
   "execution_count": null,
   "metadata": {},
   "outputs": [],
   "source": [
    "youtube_url = \"https://www.youtube.com/watch?v=lsnewm9XiIs\"\n",
    "video_id = youtube_url.split(\"=\")[1]\n",
    "print(video_id)\n",
    "transcript_text=YouTubeTranscriptApi.get_transcript(video_id)\n",
    "transcript_text"
   ]
  },
  {
   "cell_type": "code",
   "execution_count": 11,
   "metadata": {},
   "outputs": [
    {
     "data": {
      "text/plain": [
       "\" hello this is Taylor this is my fourth winter in New York City and pretty much every winter before this one I kind of just hibernated and waited it out until the first signs of spring rolled around but a few weeks ago I noticed this winter feels different it's my coldest one yet but I'm weirdly enjoying it so I asked myself why and I figured out exactly what I'm doing differently to stop wasting my winter so let's dive into these changes and I bet that some of them might help you too okay this first section of habits I am poetically naming chasing sunlight making peace with early Darkness so let's lay some foundation for the rest of these Habits by addressing the elephant in the room the thing that I think we all hate the most about winter it gets dark so early and if you live even further north than New York City I feel for you so my first big change was so simple but extremely effective and it kind of happened on accident I started chasing those precious hours of sunlight by shifting my entire schedule earlier and by waking up considerably earlier than I did last winter I've gained back about 10 hours of sunlight every week to put numbers to it this time last year I was waking up at 93010 I'm a total Night Owl by Nature I was also working a lot later into the evening last year but these days I'm waking up between 7:30 and 8:30 which is early for me if you know me I was even waking up a little bit earlier than that for a while but 7:30 to 8:30 is what I've kind of settled at the way that I transitioned earlier kind of happened on accident so whenever I fly West I really enjoy taking advantage of that jet lag and going to bed earlier and waking up earlier and after doing that enough times over the years usually going home to California for holidays to visit my parents or what have you I just kind of noticed that I really liked the feeling of Shifting things a bit earlier than I was used to and after a recent trip from Lisbon Portugal back to New York just a couple months ago it just stuck okay but here's the real game Cher with this new habit it's not just about getting back sunlight this new habit has pretty much completely eliminated those depressing winter Blues I used to feel from waking up kind of late and then feeling like I'd wasted an entire day when the sun sets at 5:00 p.m. now when the Sun goes down early I'm kind of okay with it because I woke up early and had finished most of my work by that point this schedule shift also includes earlier dinners earlier weekend plans and earlier bedtime in a way it feels like the best time for rest and Recovery where I'm using Winter's natural slowdown of pace as an opportunity to get plenty of rest and time to rejuvenate since in the summer I'm just always on the go always outside jumping between plans getting late dinners going to bed late and I also see it as a great time to invest in future me from a business perspective for example I'm going through the process of hiring a video editor now so that way the ramp up training period happens before the travel plans and faster Pace that comes with spring and summer so to conclude instead of dreading early Darkness like I used to I now see it as an opportunity to start things earlier and now I look forward to my evening routine I swear it actually feels luxurious like I'm allowing myself to stop working at an early hour okay so this schedule shift has created a strong foundation for me to now fill in the gaps with activities and plans and rituals which brings us to what is probably my favorite section of this video anticipation architecture design days you actually look forward to I'm making these titles sound so pretentious so there are some really great Neuroscience studies showing that dopamine which is oftenly referred to as the pleasure neurotransmitter spikes even more in humans during the anticipation of a reward than during receiving the reward itself and this explains why the buildup to Big special events like Christmas or a vacation often feel more exciting than the event itself so something I've done is effectively hack my brains reward system by creating a very specific winter ritual that I seriously look forward to every week fair warning my ritual is kind of Hardo biohacking Fitness girly Andrew hberman coated but I'll tell you what it is anyway and then you can design your own winter ritual so about a month ago without much planning a friend and I pretty spontaneously decided to go on a run together now it was freezing outside but we were like screw it we'll wear gloves we'll warm up pretty quickly from running it'll be fun I was a little nervous though I'm not going to lie I am pretty good with high-intensity interval training workouts and strength training but but endurance-based cardio workouts I'm not as good at and historically have just not enjoyed as much as a result but I knew my friend wouldn't mind going kind of slow with me and it was just a fun active thing to do together so we went for it fast forward an hour the run is over and yeah it was challenging but it was supposed to be and I felt so good I had a pep in my step then we were like you know what sounds really good right now a smoothie so we extended our run to the grocery store to pick up ingredients went home and made this healthy protein green smoothie which also tasted good what we did next will blow your mind see this friend of mine has a steam shower we turn it on and sit in the 120° steam room for about 20 minutes so nice and then we take our respective showers after that fast forward a couple hours we then bundle up and walk to a cozy nearby Thai restaurant and have a delicious meal followed by a cozy movie night inside by the end of the day we were like wait that was kind of the perfect Sunday 5 weeks later we have done the same exact routine every single Sunday and I'm telling you it'll be a Tuesday and I will be looking forward to my Sunday so I don't tell you this just to brag about my healthy bioh hacky luxurious Sunday routine or the fact that I have a friend with a steam shower but rather to highlight that the anticipation of this delightful new winter day that we designed has created this positive feedback loop that's helped me combat the hibernation winter Blues I look forward to it all week and then the routine itself is also very healthy so I actually have the endorphins and all of the other happy hormones afterwards just sets me up for a great week kind of the opposite of Sunday scaries so to bring this all back down to earth for a sec I would seriously recommend designing some winter day ritual that you can look forward to every week if the Run plus green smoothie isn't your thing maybe it's a weekly coffee shop hang with friends followed by an enriching indoor activity like going to an art gallery or a museum or something much Chiller and by yourself like a morning coffee and pastry run followed by a little in your favorite Park and then back home to read your book for an hour on the couch whatever floats your boat and then I think we can also apply this on the micro level designing little habits here and there that bring you some anticipation joy and real- time Joy anyways all of this of course applies to all seasons but I have found it especially helpful in the winter where I could use those extra little nudges here and there to feel happy and energized in conclusion hack your brains reward system and design days and rituals that you actually look forward to I'm telling you it makes win a lot more enjoyable now a bit of a change from my Hardo Sunday ritual this would not be a video about my New York City winter routine if we didn't talk cozy core intentional indoor living the silver lining of it being freezing outside is the guilt-free excuse to do plenty of things indoors but instead of just rotting in bed or Doom scrolling on your phone all day we're talking intentional gratifying indoor activities so something I've started doing a lot more this winter is trading Uber Eats and doom scrolling for home-cooked meals and movie Nights again in comparison to Summer where I'm eating out so many meals because it's just a joy to be outside meeting up with friends having a beer on the patio I'm now planning nights where I cook at home either by myself or with someone else and something that's made this a lot more fun is to follow new recipes or use new ingredients instead of just cooking my same old same old my friend and I cooked this one this past weekend we added pasta and butter to it it was delicious a little garbanzo bean heavy but delicious and we watched a movie and it was just a delightful cozy weekend night okay in addition to the cooking movie Nights I've talked before about having a Cozy home environment with warm diffused lights instead of cool overhead lights but I think it's all the more important to have a really luxurious nighttime routine that you really look forward to in the winter because it gets dark early so you might as well enjoy it my nighttime routine is dimming my lights taking a warm shower brushing my teeth and skincare getting in bed and reading for 20 to 45 minutes before sleeping I also do not mess around with skincare in the winter I shamelessly bring aquafor or Vaseline everywhere to take care of CHA lips dry hands or what have you I also lathered on before bed as needed Game Changer now as for balancing social life with indoor activities I definitely still do a mix of both so when I'm not cooking at home and I'm meeting friends out for dinner I try to choose a restaurant that has warm cozy Vibes in soup or F I love to have in the winter it just warms up my my innards I think you get the idea a lot of this is really just accepting that it's cold and dark outside and leaning in and just making the most of it so it's actually exciting so this has been a really enjoyable change to make indoor activities in the winter feel special rather than restrictive okay this section might sound a little too on the nose but I'd be remissed to not include it in a video about my New York City winter routine this section is called winter warrior physical adaptation I'm having a lot of fun with these titles there is a reason I still sit bike everywhere even when the weather looks like this I took this picture there is a reason why I still get 10,000 steps or more every single day even when we got this going on I also took this picture last week it's because there is no such thing as bad weather only unsuitable clothing I'm not just going to say to wear a big jacket although that is a seriously good place to start but the game Cher of proper winter gear literally enables you to maintain most of your fall spring and summer habit and for me in New York specifically a huge appeal of this city is that it is so incredibly walkable I walk everywhere and if I don't walk then I City bike and if I don't bike then I take the subway Uber is a last resort unless it's late and it's for safety or time-saving convenience so the idea that I would spend a whole season not enjoying the walkability is a no-o so yes starting with a proper winter jacket I absolutely love mine it's Patagonia I think 800 fill goose down might be a th is that a thing I don't know I'll check worth every penny in pretty much a force field to any temperature that New York City gets this definitely was a Splurge but of course there are lots of amazing options that are more affordable and on the coldest days I will double up with a mid layer underneath but that's mainly because I'm a big baby with cold temperatures I'm from Southern California suei then the double layering leggings has also been a game changer especially for biking I wear these fleece line leggings underneath my jeans I'll link everything below by the way and sometimes even my Lululemon leggings really any other insulating layer will help and then of course warm gloves especially while biking since our extremities get cold so quickly and fleece line beanies and scarves I've been doing a lot more fun fact heat loss happens evenly across Exposed Skin So the key is really to just cover your entire body now yes I totally admit that I live in New York City it's concrete they salt the streets I will never be in a situation here where I'm walking in need deep snow and so if you live in the tundra there are probably some safety precautions you might want to consider that I'm not considering I'm not an expert on them but you probably are cuz you live in that environment but my point stands dress appropriately I know this was probably the most obvious winter tip I could have given you to bundle up but I've been doing it a lot better this year and taking that extra annoying minute to seriously prepare every single time I go outside it's been totally worth it to maintain an active lifestyle and to just enjoy the winter more let me know what your winter hacks are in the comments below I will read every single one and also sorry to the southern hemisphere viewers you can come back and watch this in 6 months so that is my New York City winter routine and the new habits that I have implemented to stop hibernating and wasting my winter hit the thumbs up if you enjoyed And subscribe for more and until next time turtle [Music] out yeah\""
      ]
     },
     "execution_count": 11,
     "metadata": {},
     "output_type": "execute_result"
    }
   ],
   "source": [
    "transcript = \"\"\n",
    "start = \"\"\n",
    "for i in transcript_text:\n",
    "    transcript += \" \" + i[\"text\"]\n",
    "    start += \" \" + str(i[\"start\"]) + \"--11-- \" +str(i[\"duration\"])\n",
    "\n",
    "transcript\n"
   ]
  },
  {
   "cell_type": "code",
   "execution_count": 12,
   "metadata": {},
   "outputs": [
    {
     "data": {
      "text/plain": [
       "' 0.199--11-- 5.281 3.199--11-- 5.121 5.48--11-- 5.279 8.32--11-- 4.319 10.759--11-- 5.08 12.639--11-- 5.48 15.839--11-- 5.561 18.119--11-- 5.601 21.4--11-- 4.44 23.72--11-- 4.52 25.84--11-- 4.32 28.24--11-- 4.36 30.16--11-- 5.28 32.6--11-- 6.0 35.44--11-- 4.92 38.6--11-- 3.439 40.36--11-- 3.76 42.039--11-- 3.801 44.12--11-- 4.079 45.84--11-- 5.199 48.199--11-- 4.801 51.039--11-- 4.601 53.0--11-- 5.92 55.64--11-- 5.04 58.92--11-- 4.479 60.68--11-- 5.2 63.399--11-- 4.36 65.88--11-- 4.04 67.759--11-- 4.561 69.92--11-- 4.28 72.32--11-- 3.72 74.2--11-- 4.559 76.04--11-- 4.24 78.759--11-- 3.4 80.28--11-- 4.799 82.159--11-- 4.721 85.079--11-- 3.281 86.88--11-- 3.76 88.36--11-- 3.6 90.64--11-- 3.479 91.96--11-- 5.08 94.119--11-- 4.96 97.04--11-- 3.48 99.079--11-- 2.841 100.52--11-- 3.08 101.92--11-- 3.64 103.6--11-- 3.64 105.56--11-- 3.599 107.24--11-- 3.64 109.159--11-- 3.96 110.88--11-- 4.36 113.119--11-- 4.561 115.24--11-- 4.799 117.68--11-- 4.479 120.039--11-- 5.08 122.159--11-- 5.721 125.119--11-- 5.081 127.88--11-- 3.719 130.2--11-- 3.44 131.599--11-- 3.841 133.64--11-- 3.72 135.44--11-- 3.68 137.36--11-- 3.2 139.12--11-- 3.399 140.56--11-- 3.92 142.519--11-- 4.08 144.48--11-- 4.399 146.599--11-- 4.561 148.879--11-- 4.881 151.16--11-- 4.12 153.76--11-- 3.68 155.28--11-- 4.16 157.44--11-- 4.159 159.44--11-- 4.04 161.599--11-- 4.081 163.48--11-- 4.0 165.68--11-- 3.4 167.48--11-- 4.039 169.08--11-- 5.0 171.519--11-- 4.64 174.08--11-- 4.12 176.159--11-- 3.961 178.2--11-- 4.119 180.12--11-- 4.92 182.319--11-- 4.881 185.04--11-- 3.839 187.2--11-- 3.48 188.879--11-- 4.08 190.68--11-- 4.639 192.959--11-- 4.801 195.319--11-- 5.041 197.76--11-- 4.479 200.36--11-- 5.159 202.239--11-- 5.841 205.519--11-- 3.881 208.08--11-- 2.879 209.4--11-- 3.64 210.959--11-- 4.601 213.04--11-- 5.399 215.56--11-- 5.0 218.439--11-- 5.08 220.56--11-- 4.52 223.519--11-- 3.72 225.08--11-- 4.2 227.239--11-- 4.401 229.28--11-- 4.84 231.64--11-- 5.239 234.12--11-- 5.72 236.879--11-- 5.121 239.84--11-- 4.479 242.0--11-- 5.28 244.319--11-- 4.801 247.28--11-- 2.959 249.12--11-- 3.16 250.239--11-- 4.08 252.28--11-- 4.199 254.319--11-- 4.281 256.479--11-- 4.04 258.6--11-- 3.68 260.519--11-- 3.441 262.28--11-- 3.44 263.96--11-- 3.56 265.72--11-- 3.84 267.52--11-- 4.399 269.56--11-- 4.199 271.919--11-- 4.0 273.759--11-- 3.521 275.919--11-- 3.361 277.28--11-- 4.16 279.28--11-- 4.52 281.44--11-- 4.56 283.8--11-- 5.04 286.0--11-- 5.44 288.84--11-- 4.079 291.44--11-- 3.92 292.919--11-- 4.441 295.36--11-- 4.44 297.36--11-- 4.24 299.8--11-- 4.119 301.6--11-- 4.439 303.919--11-- 5.321 306.039--11-- 6.121 309.24--11-- 4.239 312.16--11-- 3.16 313.479--11-- 4.361 315.32--11-- 4.319 317.84--11-- 4.68 319.639--11-- 4.481 322.52--11-- 4.2 324.12--11-- 4.48 326.72--11-- 4.319 328.6--11-- 4.599 331.039--11-- 4.28 333.199--11-- 3.761 335.319--11-- 4.041 336.96--11-- 4.359 339.36--11-- 3.399 341.319--11-- 3.361 342.759--11-- 4.241 344.68--11-- 4.56 347.0--11-- 3.919 349.24--11-- 4.12 350.919--11-- 4.601 353.36--11-- 3.839 355.52--11-- 3.44 357.199--11-- 3.56 358.96--11-- 3.88 360.759--11-- 3.921 362.84--11-- 3.56 364.68--11-- 3.519 366.4--11-- 4.359 368.199--11-- 4.44 370.759--11-- 3.961 372.639--11-- 4.041 374.72--11-- 3.599 376.68--11-- 3.84 378.319--11-- 3.961 380.52--11-- 4.239 382.28--11-- 5.24 384.759--11-- 5.28 387.52--11-- 4.56 390.039--11-- 3.681 392.08--11-- 3.36 393.72--11-- 3.4 395.44--11-- 4.12 397.12--11-- 3.76 399.56--11-- 3.56 400.88--11-- 4.4 403.12--11-- 4.12 405.28--11-- 3.88 407.24--11-- 3.48 409.16--11-- 3.599 410.72--11-- 4.0 412.759--11-- 4.081 414.72--11-- 4.039 416.84--11-- 4.079 418.759--11-- 4.321 420.919--11-- 4.441 423.08--11-- 4.519 425.36--11-- 4.959 427.599--11-- 4.401 430.319--11-- 4.241 432.0--11-- 5.68 434.56--11-- 5.079 437.68--11-- 3.68 439.639--11-- 4.0 441.36--11-- 3.959 443.639--11-- 3.441 445.319--11-- 4.521 447.08--11-- 5.0 449.84--11-- 4.199 452.08--11-- 4.0 454.039--11-- 3.761 456.08--11-- 3.559 457.8--11-- 4.0 459.639--11-- 4.0 461.8--11-- 3.0 463.639--11-- 4.081 464.8--11-- 5.2 467.72--11-- 3.879 470.0--11-- 3.52 471.599--11-- 4.121 473.52--11-- 4.639 475.72--11-- 4.199 478.159--11-- 4.241 479.919--11-- 4.68 482.4--11-- 4.28 484.599--11-- 5.16 486.68--11-- 5.199 489.759--11-- 3.921 491.879--11-- 4.561 493.68--11-- 4.639 496.44--11-- 4.319 498.319--11-- 4.16 500.759--11-- 3.521 502.479--11-- 3.961 504.28--11-- 4.16 506.44--11-- 4.08 508.44--11-- 4.039 510.52--11-- 3.959 512.479--11-- 4.401 514.479--11-- 5.12 516.88--11-- 4.719 519.599--11-- 4.36 521.599--11-- 4.601 523.959--11-- 4.44 526.2--11-- 4.04 528.399--11-- 3.521 530.24--11-- 3.92 531.92--11-- 5.84 534.16--11-- 5.359 537.76--11-- 3.28 539.519--11-- 3.681 541.04--11-- 4.28 543.2--11-- 3.68 545.32--11-- 3.199 546.88--11-- 3.72 548.519--11-- 4.521 550.6--11-- 4.2 553.04--11-- 3.84 554.8--11-- 4.0 556.88--11-- 3.8 558.8--11-- 4.0 560.68--11-- 5.44 562.8--11-- 4.719 566.12--11-- 4.0 567.519--11-- 4.601 570.12--11-- 3.92 572.12--11-- 4.48 574.04--11-- 4.84 576.6--11-- 4.44 578.88--11-- 4.88 581.04--11-- 5.52 583.76--11-- 4.48 586.56--11-- 3.76 588.24--11-- 3.92 590.32--11-- 4.639 592.16--11-- 5.32 594.959--11-- 4.921 597.48--11-- 5.28 599.88--11-- 5.24 602.76--11-- 5.04 605.12--11-- 4.76 607.8--11-- 3.92 609.88--11-- 4.28 611.72--11-- 4.4 614.16--11-- 3.56 616.12--11-- 4.279 617.72--11-- 5.84 620.399--11-- 5.521 623.56--11-- 4.959 625.92--11-- 4.96 628.519--11-- 3.801 630.88--11-- 3.56 632.32--11-- 3.759 634.44--11-- 3.44 636.079--11-- 3.56 637.88--11-- 3.32 639.639--11-- 3.76 641.2--11-- 4.48 643.399--11-- 3.56 645.68--11-- 2.48 646.959--11-- 4.161 648.16--11-- 5.88 651.12--11-- 4.92 654.04--11-- 4.239 656.04--11-- 3.72 658.279--11-- 3.761 659.76--11-- 4.28 662.04--11-- 4.239 664.04--11-- 3.599 666.279--11-- 3.281 667.639--11-- 3.801 669.56--11-- 4.16 671.44--11-- 5.0 673.72--11-- 4.88 676.44--11-- 5.639 678.6--11-- 5.44 682.079--11-- 4.56 684.04--11-- 4.88 686.639--11-- 4.161 688.92--11-- 3.88 690.8--11-- 3.719 692.8--11-- 3.24 694.519--11-- 3.081 696.04--11-- 3.0 697.6--11-- 3.479 699.04--11-- 3.76 701.079--11-- 3.601 702.8--11-- 4.12 704.68--11-- 4.599 706.92--11-- 4.919 709.279--11-- 4.641 711.839--11-- 3.881 713.92--11-- 3.719 715.72--11-- 3.84 717.639--11-- 3.921 719.56--11-- 4.0 721.56--11-- 4.2 723.56--11-- 3.92 725.76--11-- 4.04 727.48--11-- 4.159 729.8--11-- 4.0 731.639--11-- 3.921 733.8--11-- 3.96 735.56--11-- 3.84 737.76--11-- 5.319 739.4--11-- 7.679 743.079--11-- 4.0'"
      ]
     },
     "execution_count": 12,
     "metadata": {},
     "output_type": "execute_result"
    }
   ],
   "source": [
    "start"
   ]
  },
  {
   "cell_type": "code",
   "execution_count": null,
   "metadata": {},
   "outputs": [],
   "source": []
  }
 ],
 "metadata": {
  "kernelspec": {
   "display_name": "video",
   "language": "python",
   "name": "python3"
  },
  "language_info": {
   "codemirror_mode": {
    "name": "ipython",
    "version": 3
   },
   "file_extension": ".py",
   "mimetype": "text/x-python",
   "name": "python",
   "nbconvert_exporter": "python",
   "pygments_lexer": "ipython3",
   "version": "3.10.16"
  }
 },
 "nbformat": 4,
 "nbformat_minor": 2
}
